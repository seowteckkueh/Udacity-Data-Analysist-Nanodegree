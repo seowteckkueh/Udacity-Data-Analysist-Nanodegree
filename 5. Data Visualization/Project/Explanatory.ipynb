{
 "cells": [
  {
   "cell_type": "markdown",
   "metadata": {
    "slideshow": {
     "slide_type": "slide"
    }
   },
   "source": [
    "<h1><center> Ford GoBike System (Bay Wheels) Explanatory Analysis</center></h1>\n",
    "\n",
    "<h3><center>by Kueh Seow Teck</center></h3>"
   ]
  },
  {
   "cell_type": "markdown",
   "metadata": {
    "slideshow": {
     "slide_type": "slide"
    }
   },
   "source": [
    "## Introduction"
   ]
  },
  {
   "cell_type": "markdown",
   "metadata": {
    "slideshow": {
     "slide_type": "subslide"
    }
   },
   "source": [
    "**Ford GoBike** System, now known as [**Bay Wheels**](https://en.wikipedia.org/wiki/Bay_Wheels) is a regional public bicycle sharing system in California's San Francisco Bay Area. The operation first begane in August 2013 as **Bay Area Bike Share**, then re-launched as **Ford GoBike** in June 2017 in partnership with Ford Motor Company. In June 2019, after the operatior Motivate's acquisition by Lyft, the system is renamed to **Bay Wheels**.\n",
    "\n",
    "For this project, the system data is compiled by Lyft and is available for public use and can be download [here](https://www.lyft.com/bikes/bay-wheels/system-data). The data available for download are from 2017 till August 2020 as of now."
   ]
  },
  {
   "cell_type": "markdown",
   "metadata": {
    "slideshow": {
     "slide_type": "slide"
    }
   },
   "source": [
    "## Data Wranggling"
   ]
  },
  {
   "cell_type": "markdown",
   "metadata": {
    "slideshow": {
     "slide_type": "subslide"
    }
   },
   "source": [
    "I have downloaded all the excel files for the Bay Wheel's trip data up to date and saved it into a folder named 'Files'.\n",
    "I then read all the files and concat it into a dataframe and noticed that the excel files starting from April 2020 have different column names and a lot of missing data. So I have decided to only include data up till March 2020 for this visualization exercise."
   ]
  },
  {
   "cell_type": "markdown",
   "metadata": {
    "slideshow": {
     "slide_type": "slide"
    }
   },
   "source": [
    "### Preliminary accessment of the database\n",
    "\n",
    "The cleaned database contains data for each trips taken by the users from 2017 till March 2020. The columns primarily can be devided into five categories: \n",
    "\n",
    "1. **Trip duration related data**: This category of data contains date and time related info for each of the trip such as *duration_sec* taken for each trip, *start_time* and *end_time* of each trip.\n",
    "2. **Station related data**: This category contains string data for each trips such as the *start_station_name* and *start_station_id*, *end_station_name* and *end_station_id*, *start_station_latitude* and *start_station_longitude*, *end_station_latitude* and *end_station_longitude*\n",
    "3. **User related data**: *user_type* which describes if the user is a subscriber to the service or just a regular customer\n",
    "4. **Bike related data**: *bike_id* describes the unique identification number of the bike used for each particular trip\n",
    "5. **Derived variables**: From the datetime objects, I also derived the *duration_min*, *start_date*, *start_hour*, *start_day*, and *start_month* to assist me with the data exploration and analysis process"
   ]
  },
  {
   "cell_type": "markdown",
   "metadata": {
    "slideshow": {
     "slide_type": "slide"
    }
   },
   "source": [
    "### Points of interest\n",
    "\n",
    "From the dataset, I would like to investigate the ride count distribution for a given time of the day, day of the week and month in a year. I am also interested in investigating the distribution of the total duration of each ride across a given time of the day, day of the week and month in a year. Other than that, I also would like to investigate the ride count distribution difference between the subscribed users and casual users. \n",
    "Below are some of the key questions:\n",
    "- When is the ride most popular in terms of time of day, day of the week or month of the year?\n",
    "- Who are the main customer group: subscribers or normal customers?\n",
    "- What is the average trip duration?\n",
    "- Does the count of usage of subscriber and customer users changes throughout a year?\n",
    "- Does subscriber and customer uses the system similarly in terms of when they take their ride? "
   ]
  },
  {
   "cell_type": "markdown",
   "metadata": {
    "slideshow": {
     "slide_type": "slide"
    }
   },
   "source": [
    "## Exploratory Analysis"
   ]
  },
  {
   "cell_type": "markdown",
   "metadata": {
    "slideshow": {
     "slide_type": "subslide"
    }
   },
   "source": [
    "Three methods of exploration below are used in exploring the data:\n",
    "1. Univariate Exploration\n",
    "2. Bivariate Exploration\n",
    "3. Multivariate Exploration"
   ]
  },
  {
   "cell_type": "markdown",
   "metadata": {
    "slideshow": {
     "slide_type": "slide"
    }
   },
   "source": [
    "## Explanatory Analysis"
   ]
  },
  {
   "cell_type": "markdown",
   "metadata": {
    "slideshow": {
     "slide_type": "subslide"
    }
   },
   "source": [
    "### Duration spend on a ride for customer is longer than subscribers"
   ]
  },
  {
   "cell_type": "markdown",
   "metadata": {
    "slideshow": {
     "slide_type": "subslide"
    }
   },
   "source": [
    "<img src=\"rides_duration.png\">"
   ]
  },
  {
   "cell_type": "markdown",
   "metadata": {
    "slideshow": {
     "slide_type": "skip"
    }
   },
   "source": [
    "<center>Fig. 1： The count distribution for trip durations in minute</center>"
   ]
  },
  {
   "cell_type": "markdown",
   "metadata": {
    "slideshow": {
     "slide_type": "subslide"
    }
   },
   "source": [
    "<img src=\"duration_usertype.png\">"
   ]
  },
  {
   "cell_type": "markdown",
   "metadata": {
    "slideshow": {
     "slide_type": "skip"
    }
   },
   "source": [
    "<center>Fig. 2： Ride duration in minute for Subcriber and Customer</center>"
   ]
  },
  {
   "cell_type": "markdown",
   "metadata": {
    "slideshow": {
     "slide_type": "subslide"
    }
   },
   "source": [
    "Figure 1 shows the count distribution for all the trips in the dataset in minutes. The distribution is extremely right skewed hence the plot is limited to only 60 minutes. Most of the rides are within 5-10 minutes. This is further explored in figure 2, where we can observe the difference in terms of ride durations between the subcribers and customers. \n",
    "\n",
    "The trip duration in minutes for the subscribers are narrower compared with casual customers. The subscribers having a smaller interquartile range of 10 minutes and median of almost 10 minutes. Customer on the other hand have an interquartile range of almost 15 minutes and median of 15 minutes. Subscribers are taking shorted trips compared to casual customers. This might be because subscribers are taking routine trips using this service and taking shorter durations to complete their trip. Customers on the other hand are more prompt to stroll around and taking longer trips."
   ]
  },
  {
   "cell_type": "markdown",
   "metadata": {
    "slideshow": {
     "slide_type": "slide"
    }
   },
   "source": [
    "### The peak usage period of this service during weekday for subscribers and customers are the same; which is at 8am and 5pm"
   ]
  },
  {
   "cell_type": "markdown",
   "metadata": {
    "slideshow": {
     "slide_type": "subslide"
    }
   },
   "source": [
    "<img src=\"rides_hour.png\">"
   ]
  },
  {
   "cell_type": "markdown",
   "metadata": {
    "slideshow": {
     "slide_type": "skip"
    }
   },
   "source": [
    "<center>Fig. 3： Total ride counts distribution by hour of day</center>"
   ]
  },
  {
   "cell_type": "markdown",
   "metadata": {
    "slideshow": {
     "slide_type": "subslide"
    }
   },
   "source": [
    "<img src=\"rides_hour_usertype.png\">"
   ]
  },
  {
   "cell_type": "markdown",
   "metadata": {
    "slideshow": {
     "slide_type": "skip"
    }
   },
   "source": [
    "<center>Fig. 4： Total number of rides over the day between Subscriber and Customer</center>"
   ]
  },
  {
   "cell_type": "markdown",
   "metadata": {
    "slideshow": {
     "slide_type": "subslide"
    }
   },
   "source": [
    "<img src=\"rides_hour_week_usertype.png\">"
   ]
  },
  {
   "cell_type": "markdown",
   "metadata": {
    "slideshow": {
     "slide_type": "skip"
    }
   },
   "source": [
    "<center>Fig. 5： Hourly usage for customers and subscribers each day of a week</center>"
   ]
  },
  {
   "cell_type": "markdown",
   "metadata": {
    "slideshow": {
     "slide_type": "subslide"
    }
   },
   "source": [
    "The following figure 3 to 5 explains the relationship of ride counts with the hour of day and day of week for both subscriber and customer.\n",
    "\n",
    "Figure 1 shows that the ride count distribution is bimodal which peaks at 8am and 5pm. Figure 2 further explores this observation by separating the ride counts between subscriber and customer. Here we can see the 8am and 5pm peaks are not so obvious for the customers. The number of rides during not peak hour between 8am and 5pm are not much lower than the numbers during the peaks.\n",
    "\n",
    "However, when we add another dimension (day of week) into the display, we can see that for both customer and subscriber having bimodal distribution for the total number of rides peaking at 8am and 5pm on weekdays. On weekends, the distribution of total rides for customers are mostly focus on the time range between 9am till 6pm; peaking at around 1pm. The distribution on weekends for the subscriber on the other hand is relatively flat, having a normal distribution. \n",
    "\n",
    "The observation suggest that most of the subscriber and customer users the service the most at 8am and 5pm during weekdays. This coincide with the start and end of normal working hours which suggest that most of the users, both subsriber and customer uses this service to travel to and back from work. And during weekends, subscribers users this service less compared to casual customers, which would suggest that customers also uses this service for leisure or for purpose other than traveling to work."
   ]
  },
  {
   "cell_type": "markdown",
   "metadata": {
    "slideshow": {
     "slide_type": "slide"
    }
   },
   "source": [
    "### The total ride counts by month has a positive correlation with temperature"
   ]
  },
  {
   "cell_type": "markdown",
   "metadata": {
    "slideshow": {
     "slide_type": "subslide"
    }
   },
   "source": [
    "<img src=\"rides_month.png\">"
   ]
  },
  {
   "cell_type": "markdown",
   "metadata": {
    "slideshow": {
     "slide_type": "skip"
    }
   },
   "source": [
    "<center>Fig. 6： Total number of rides over the Months</center>"
   ]
  },
  {
   "cell_type": "markdown",
   "metadata": {
    "slideshow": {
     "slide_type": "subslide"
    }
   },
   "source": [
    "<img src=\"temperature.png\">"
   ]
  },
  {
   "cell_type": "markdown",
   "metadata": {
    "slideshow": {
     "slide_type": "skip"
    }
   },
   "source": [
    "<center>Fig. 7： Temperature in Bay Area throughout a year</center>"
   ]
  },
  {
   "cell_type": "markdown",
   "metadata": {
    "slideshow": {
     "slide_type": "subslide"
    }
   },
   "source": [
    "Figure 6 shows the total ride distribution for subscriber and customer over the months.  Both subscriber and customer showing an increase in total ride numbers from the beginning of the year and peaked in October then decline until December. Figure  7 shows the [temperature](https://weatherspark.com/y/557/Average-Weather-in-San-Francisco-California-United-States-Year-Round) trend in a year for bay area. Both the ride distribution and temperature in Bay area is showing a similar trend. We can deduce that temperature affects the usage of this service whereby lower temperature during winter times reduces the number of users of this service."
   ]
  },
  {
   "cell_type": "markdown",
   "metadata": {
    "slideshow": {
     "slide_type": "slide"
    }
   },
   "source": [
    "### Summary"
   ]
  },
  {
   "cell_type": "markdown",
   "metadata": {
    "slideshow": {
     "slide_type": "subslide"
    }
   },
   "source": [
    "1. Duration spend on a ride for customer is longer than subscribers.\n",
    "2. The peak usage period of this service during weekday for subscribers and customers are the same; which is at 8am and 5pm.\n",
    "3. The total ride counts by month has a positive correlation with temperature."
   ]
  }
 ],
 "metadata": {
  "kernelspec": {
   "display_name": "Python 3",
   "language": "python",
   "name": "python3"
  },
  "language_info": {
   "codemirror_mode": {
    "name": "ipython",
    "version": 3
   },
   "file_extension": ".py",
   "mimetype": "text/x-python",
   "name": "python",
   "nbconvert_exporter": "python",
   "pygments_lexer": "ipython3",
   "version": "3.7.7"
  }
 },
 "nbformat": 4,
 "nbformat_minor": 4
}
