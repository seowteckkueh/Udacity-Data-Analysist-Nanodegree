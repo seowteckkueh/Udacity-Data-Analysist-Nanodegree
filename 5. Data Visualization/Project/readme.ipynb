{
 "cells": [
  {
   "cell_type": "markdown",
   "metadata": {
    "slideshow": {
     "slide_type": "slide"
    }
   },
   "source": [
    "<h1><center> Ford GoBike System (Bay Wheels) Communicate Data Findings Project</center></h1>\n",
    "\n",
    "<h3><center>by Kueh Seow Teck</center></h3>"
   ]
  },
  {
   "cell_type": "markdown",
   "metadata": {
    "slideshow": {
     "slide_type": "slide"
    }
   },
   "source": [
    "## Introduction"
   ]
  },
  {
   "cell_type": "markdown",
   "metadata": {
    "slideshow": {
     "slide_type": "subslide"
    }
   },
   "source": [
    "**Ford GoBike** System, now known as [**Bay Wheels**](https://en.wikipedia.org/wiki/Bay_Wheels) is a regional public bicycle sharing system in California's San Francisco Bay Area. The operation first begane in August 2013 as **Bay Area Bike Share**, then re-launched as **Ford GoBike** in June 2017 in partnership with Ford Motor Company. In June 2019, after the operatior Motivate's acquisition by Lyft, the system is renamed to **Bay Wheels**.\n",
    "\n",
    "For this project, the system data is compiled by Lyft and is available for public use and can be download [here](https://www.lyft.com/bikes/bay-wheels/system-data). The data available for download are from 2017 till August 2020 as of now.\n",
    "\n",
    "In general, each trip contains the data below:\n",
    "\n",
    "- Trip Duration (seconds)\n",
    "- Start Time and Date\n",
    "- End Time and Date\n",
    "- Start Station ID\n",
    "- Start Station Name\n",
    "- Start Station Latitude\n",
    "- Start Station Longitude\n",
    "- End Station ID\n",
    "- End Station Name\n",
    "- End Station Latitude\n",
    "- End Station Longitude\n",
    "- Bike ID\n",
    "- User Type (Subscriber or Customer – “Subscriber” = Member or “Customer” = Casual)"
   ]
  },
  {
   "cell_type": "markdown",
   "metadata": {},
   "source": [
    "## Python Libary used for this project"
   ]
  },
  {
   "cell_type": "markdown",
   "metadata": {},
   "source": [
    "1. Pandas: for manipulating dataset\n",
    "2. OS and glob: interacting with windows file path\n",
    "3. numpy: for calculations\n",
    "4. seaborn and matplotlib: for data visualization\n"
   ]
  },
  {
   "cell_type": "markdown",
   "metadata": {},
   "source": [
    "## Files submitted for this project"
   ]
  },
  {
   "cell_type": "markdown",
   "metadata": {},
   "source": [
    "Below are the list of files submitted for this project:\n",
    "\n",
    "1. *readme.md* : General information about the project\n",
    "2. *Exploration.html* : Exploratory data analysis codes and visualization\n",
    "3. *Explanatory.html* : Explanatory anaysis codes and visualization\n",
    "4. *Explanatory.slides.html* : Explanatory analsyis plots and summaries\n",
    "5. Multiple .png files containing figures used in the htmls above."
   ]
  },
  {
   "cell_type": "markdown",
   "metadata": {
    "slideshow": {
     "slide_type": "slide"
    }
   },
   "source": [
    "## Data Wranggling"
   ]
  },
  {
   "cell_type": "markdown",
   "metadata": {
    "slideshow": {
     "slide_type": "subslide"
    }
   },
   "source": [
    "I have downloaded all the excel files for the Bay Wheel's trip data up to date and saved it into a folder named 'Files'.\n",
    "I then read all the files and concat it into a dataframe and noticed that the excel files starting from April 2020 have different column names and a lot of missing data. So I have decided to only include data up till March 2020 for this visualization exercise."
   ]
  },
  {
   "cell_type": "markdown",
   "metadata": {
    "slideshow": {
     "slide_type": "slide"
    }
   },
   "source": [
    "### Preliminary accessment of the database\n",
    "\n",
    "The cleaned database contains data for each trips taken by the users from 2017 till March 2020. The columns primarily can be devided into five categories: \n",
    "\n",
    "1. **Trip duration related data**: This category of data contains date and time related info for each of the trip such as *duration_sec* taken for each trip, *start_time* and *end_time* of each trip.\n",
    "2. **Station related data**: This category contains string data for each trips such as the *start_station_name* and *start_station_id*, *end_station_name* and *end_station_id*, *start_station_latitude* and *start_station_longitude*, *end_station_latitude* and *end_station_longitude*\n",
    "3. **User related data**: *user_type* which describes if the user is a subscriber to the service or just a regular customer\n",
    "4. **Bike related data**: *bike_id* describes the unique identification number of the bike used for each particular trip\n",
    "5. **Derived variables**: From the datetime objects, I also derived the *duration_min*, *start_date*, *start_hour*, *start_day*, and *start_month* to assist me with the data exploration and analysis process"
   ]
  },
  {
   "cell_type": "markdown",
   "metadata": {
    "slideshow": {
     "slide_type": "slide"
    }
   },
   "source": [
    "### Points of interest\n",
    "\n",
    "From the dataset, I would like to investigate the ride count distribution for a given time of the day, day of the week and month in a year. I am also interested in investigating the distribution of the total duration of each ride across a given time of the day, day of the week and month in a year. Other than that, I also would like to investigate the ride count distribution difference between the subscribed users and casual users. \n",
    "Below are some of the key questions:\n",
    "- When is the ride most popular in terms of time of day, day of the week or month of the year?\n",
    "- Who are the main customer group: subscribers or normal customers?\n",
    "- What is the average trip duration?\n",
    "- Does the count of usage of subscriber and customer users changes throughout a year?\n",
    "- Does subscriber and customer uses the system similarly in terms of when they take their ride? "
   ]
  },
  {
   "cell_type": "markdown",
   "metadata": {
    "slideshow": {
     "slide_type": "slide"
    }
   },
   "source": [
    "## Exploratory Analysis"
   ]
  },
  {
   "cell_type": "markdown",
   "metadata": {
    "slideshow": {
     "slide_type": "subslide"
    }
   },
   "source": [
    "Three methods of exploration below are used in exploring the data:\n",
    "1. Univariate Exploration\n",
    "2. Bivariate Exploration\n",
    "3. Multivariate Exploration"
   ]
  },
  {
   "cell_type": "markdown",
   "metadata": {
    "slideshow": {
     "slide_type": "slide"
    }
   },
   "source": [
    "##  Summary from Explanatory Analysis"
   ]
  },
  {
   "cell_type": "markdown",
   "metadata": {
    "slideshow": {
     "slide_type": "subslide"
    }
   },
   "source": [
    "1. Duration spend on a ride for customer is longer than subscribers.\n",
    "2. The peak usage period of this service during weekday for subscribers and customers are the same; which is at 8am and 5pm.\n",
    "3. The total ride counts by month has a positive correlation with temperature."
   ]
  }
 ],
 "metadata": {
  "kernelspec": {
   "display_name": "Python 3",
   "language": "python",
   "name": "python3"
  },
  "language_info": {
   "codemirror_mode": {
    "name": "ipython",
    "version": 3
   },
   "file_extension": ".py",
   "mimetype": "text/x-python",
   "name": "python",
   "nbconvert_exporter": "python",
   "pygments_lexer": "ipython3",
   "version": "3.7.7"
  }
 },
 "nbformat": 4,
 "nbformat_minor": 4
}
