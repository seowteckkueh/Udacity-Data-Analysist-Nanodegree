{
 "cells": [
  {
   "cell_type": "markdown",
   "metadata": {},
   "source": [
    "<h1><center> Act Report</center></h1>\n",
    "<h3><center> by Kueh Seow Teck</center></h3>"
   ]
  },
  {
   "cell_type": "markdown",
   "metadata": {},
   "source": [
    "<img src=\"files/tweet.png\">"
   ]
  },
  {
   "cell_type": "markdown",
   "metadata": {},
   "source": [
    "<center>Source: https://twitter.com/dog_rates/status/891327558926688256</center>"
   ]
  },
  {
   "cell_type": "markdown",
   "metadata": {},
   "source": [
    "## Introduction"
   ]
  },
  {
   "cell_type": "markdown",
   "metadata": {},
   "source": [
    "After performing the wrangling process on the WeRateDogs Twitter dataset, I performed a simple visualization on the data which I have cleaned. Below are the three plots which I have plotted using the clean WeRateDogs dataset to gain better insight on the dataset.\n",
    "\n",
    "1. Number of retweet and favorites over time\n",
    "2. 10 top popular dog breeds\n",
    "3. Distribution of dog life stages"
   ]
  },
  {
   "cell_type": "markdown",
   "metadata": {},
   "source": [
    "## Visualization"
   ]
  },
  {
   "cell_type": "markdown",
   "metadata": {},
   "source": [
    "### Visualization 1: Number of retweet and favorites over time"
   ]
  },
  {
   "cell_type": "markdown",
   "metadata": {},
   "source": [
    "The plot below is about the monthly sum of retweets and favorites plotted over the whole time range of the available data in the WeRateDogs database. Blue curves represents the number of retweets while orange represents the number of favorites. From the plot below, the number of favorites dip slightly from December 2015 till May 2016. From June 2016 the number of favorites steadily increase which each passing month and nearly reach 250000 favorites per month around July 2017. The same trend cannot be observer for the number of retweets. The number of retweets over the years have been stagnant and hovers around 50000."
   ]
  },
  {
   "cell_type": "markdown",
   "metadata": {},
   "source": [
    "<img src=\"files/fig1_retweet_favorites_over_time.png\">"
   ]
  },
  {
   "cell_type": "markdown",
   "metadata": {},
   "source": [
    "### Visualization 2: Top 10 Most popular dog breed among the Tweets"
   ]
  },
  {
   "cell_type": "markdown",
   "metadata": {},
   "source": [
    "The bar chart below shows the top 10 most popular dog breed among the images post by WeRateDogs. The most popular dog breed is Golden Retriever followed by Pembroke, Labrador Retriever, Chihuahua, Pug, Toy Poodle, Pomeranian, Malamute, Chow and Cocker Snapniel. A total of almost 80 post are of Golden Retriever."
   ]
  },
  {
   "cell_type": "markdown",
   "metadata": {},
   "source": [
    "<img src=\"files/fig2_top10_dog_breed.png\">"
   ]
  },
  {
   "cell_type": "markdown",
   "metadata": {},
   "source": [
    "<img src=\"files/golden_retriever.png\">"
   ]
  },
  {
   "cell_type": "markdown",
   "metadata": {},
   "source": [
    "<center>Source: https://twitter.com/dog_rates/status/667182792070062081</center>"
   ]
  },
  {
   "cell_type": "markdown",
   "metadata": {},
   "source": [
    "### Visualization 3: The percentage distribution of dog life stages among the dogs in the WeRateDogs tweets"
   ]
  },
  {
   "cell_type": "markdown",
   "metadata": {},
   "source": [
    "The pie chart below shows the percentage distribution of dog life stages among the dogs posted in the WeRateDogs Twitter page.\n",
    "The most popularly Tweeted dogs are in the pupper stage followed by doggo, puppo and lastly floofer. This pie chart is created based on the limited dog life stages data that we have and might not be representative of the true distribution of all the dogs in the WeRateDogs tweets."
   ]
  },
  {
   "cell_type": "markdown",
   "metadata": {},
   "source": [
    "<img src=\"files/fig3_dog_life_stages.png\">"
   ]
  },
  {
   "cell_type": "markdown",
   "metadata": {},
   "source": [
    "<img src=\"files/pupper.png\">"
   ]
  },
  {
   "cell_type": "markdown",
   "metadata": {},
   "source": [
    "<center>Source: https://twitter.com/dog_rates/status/886366144734445568</center>"
   ]
  },
  {
   "cell_type": "markdown",
   "metadata": {},
   "source": [
    "Look at how cute this pupper is! No wonder they are the most tweeted dog life stage by WeRateDogs. They are just so adorable.  "
   ]
  },
  {
   "cell_type": "markdown",
   "metadata": {},
   "source": [
    "### Conclusion"
   ]
  },
  {
   "cell_type": "markdown",
   "metadata": {},
   "source": [
    "In conclusion, the number of retweets for the post of WeRateDogs Twitter page is generally increasing over the years while the number of retweets hovers around 50000 tweets per month. The most popularly tweeted dog breed is the Golden Retriever. And mostly tweeted dogs are pupper which is logical as they are cutest at that stage."
   ]
  }
 ],
 "metadata": {
  "kernelspec": {
   "display_name": "Python 3",
   "language": "python",
   "name": "python3"
  },
  "language_info": {
   "codemirror_mode": {
    "name": "ipython",
    "version": 3
   },
   "file_extension": ".py",
   "mimetype": "text/x-python",
   "name": "python",
   "nbconvert_exporter": "python",
   "pygments_lexer": "ipython3",
   "version": "3.6.3"
  }
 },
 "nbformat": 4,
 "nbformat_minor": 2
}
